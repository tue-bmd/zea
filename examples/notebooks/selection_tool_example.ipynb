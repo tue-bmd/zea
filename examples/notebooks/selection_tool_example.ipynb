{
 "cells": [
  {
   "cell_type": "code",
   "execution_count": null,
   "metadata": {
    "tags": [
     "parameters"
    ]
   },
   "outputs": [],
   "source": [
    "# This cell is tagged with \"parameters\" so that it can be injected into the\n",
    "# notebook when it is run by the unit test testing this notebook.\n",
    "# The variable quick mode will then be set to True, allowing the notebook to\n",
    "# run quickly for testing purposes.\n",
    "# injected parameters\n",
    "quick_mode = False"
   ]
  },
  {
   "cell_type": "code",
   "execution_count": null,
   "metadata": {},
   "outputs": [],
   "source": [
    "import sys\n",
    "import matplotlib.pyplot as plt\n",
    "import numpy as np\n",
    "from matplotlib.animation import FuncAnimation\n",
    "from usbmd.utils.selection_tool import interactive_selector, interpolate_masks"
   ]
  },
  {
   "cell_type": "code",
   "execution_count": null,
   "metadata": {},
   "outputs": [],
   "source": [
    "num_frames = 10\n",
    "num_mask_to_draw = 3\n",
    "image_size = (100, 100)\n",
    "figsize = (11, 3)\n",
    "fps = 10"
   ]
  },
  {
   "cell_type": "code",
   "execution_count": null,
   "metadata": {},
   "outputs": [],
   "source": [
    "if not quick_mode:\n",
    "    %matplotlib qt"
   ]
  },
  {
   "cell_type": "code",
   "execution_count": null,
   "metadata": {},
   "outputs": [],
   "source": [
    "if not quick_mode:\n",
    "    data = np.ones(image_size)\n",
    "\n",
    "    fig, axs = plt.subplots(1, num_mask_to_draw + 1, figsize=figsize)\n",
    "    for i, ax in enumerate(axs):\n",
    "        ax.imshow(data)\n",
    "        if i < len(axs) - 1:\n",
    "            ax.set_title(f\"Mask {i}\")\n",
    "        ax.axis('off')\n",
    "\n",
    "    masks = []\n",
    "    for ax in axs[:-1]:\n",
    "        _, mask = interactive_selector(data, ax, selector=\"lasso\", num_selections=1)\n",
    "        ax.imshow(mask[0])\n",
    "        masks.append(mask[0])\n",
    "\n",
    "    interpolated_masks = interpolate_masks(masks, num_frames)\n",
    "\n",
    "    interpolated_masks = interpolated_masks + interpolated_masks[::-1][1:]\n",
    "\n",
    "    num_frames = len(interpolated_masks)\n",
    "\n",
    "    # Plot the animation of intermediate frames in the third subplot\n",
    "    animation_img = axs[-1].imshow(interpolated_masks[0])\n",
    "    axs[-1].set_title('Intermediate Frames')\n",
    "\n",
    "    # Function to update the animation frame\n",
    "    def update(frame):\n",
    "        animation_img.set_array(interpolated_masks[frame])\n",
    "        return animation_img,\n",
    "\n",
    "    # Create an animation\n",
    "    ani = FuncAnimation(fig, update, frames=num_frames, interval=1000 / fps)\n",
    "    ani.save('lasso_test.gif', writer='imagemagick')\n",
    "    plt.show()"
   ]
  }
 ],
 "metadata": {
  "kernelspec": {
   "display_name": "usbmd",
   "language": "python",
   "name": "python3"
  },
  "language_info": {
   "codemirror_mode": {
    "name": "ipython",
    "version": 3
   },
   "file_extension": ".py",
   "mimetype": "text/x-python",
   "name": "python",
   "nbconvert_exporter": "python",
   "pygments_lexer": "ipython3",
   "version": "3.10.11"
  }
 },
 "nbformat": 4,
 "nbformat_minor": 2
}
