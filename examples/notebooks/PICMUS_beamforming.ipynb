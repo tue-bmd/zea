{
 "cells": [
  {
   "attachments": {},
   "cell_type": "markdown",
   "metadata": {},
   "source": [
    "## PICMUS beamforming with usbmd toolbox"
   ]
  },
  {
   "cell_type": "code",
   "execution_count": null,
   "metadata": {},
   "outputs": [],
   "source": [
    "# Change the working directory to the root of the project by moving up in the\n",
    "# directory tree until the file 'setup.py' is found.\n",
    "import os\n",
    "\n",
    "while not os.path.exists('setup.py'):\n",
    "    os.chdir('..')\n",
    "\n",
    "# Set to True to run the notebook quickly for testing purposes This is done\n",
    "# automatically in 'tests/test_run_notebooks.py'\n",
    "quick_mode = True"
   ]
  },
  {
   "cell_type": "code",
   "execution_count": null,
   "metadata": {
    "tags": [
     "parameters"
    ]
   },
   "outputs": [],
   "source": [
    "# injected parameters\n",
    "quick_mode = False"
   ]
  },
  {
   "cell_type": "code",
   "execution_count": null,
   "metadata": {},
   "outputs": [],
   "source": [
    "from usbmd.ui import DataLoaderUI\n",
    "from usbmd.setup_usbmd import setup"
   ]
  },
  {
   "cell_type": "code",
   "execution_count": null,
   "metadata": {},
   "outputs": [],
   "source": [
    "# Loads config, sets data paths and initializes gpu if available\n",
    "config = setup(config_path=\"./configs/config_picmus_rf.yaml\")\n",
    "\n",
    "# Override config settings\n",
    "config.plot.save = False"
   ]
  },
  {
   "attachments": {},
   "cell_type": "markdown",
   "metadata": {},
   "source": [
    "### PICMUS"
   ]
  },
  {
   "attachments": {},
   "cell_type": "markdown",
   "metadata": {},
   "source": [
    "### Experiments - resolution distortion"
   ]
  },
  {
   "attachments": {},
   "cell_type": "markdown",
   "metadata": {},
   "source": [
    "#### RF beamforming"
   ]
  },
  {
   "cell_type": "code",
   "execution_count": null,
   "metadata": {},
   "outputs": [],
   "source": [
    "config.data.file_path = 'PICMUS/database/experiments/resolution_distorsion/resolution_distorsion_expe_dataset_rf.hdf5'\n",
    "config.data.dataset_name = 'picmus'\n",
    "config.data.subset = 'experiments/resolution_distorsion'\n",
    "# The modulation type data is saved in ('rf', 'iq')\n",
    "config.data.from_modtype = 'rf'\n",
    "# The modulation type we would like to process the data with\n",
    "config.data.modtype = 'rf'\n",
    "\n",
    "# After removing the carrier of the rf signal, we can decimate the data with factor 4\n",
    "config.scan.downsample = 1\n",
    "\n",
    "if not quick_mode:\n",
    "    ui = DataLoaderUI(config)\n",
    "    image = ui.run()"
   ]
  },
  {
   "attachments": {},
   "cell_type": "markdown",
   "metadata": {},
   "source": [
    "#### IQ beamforming"
   ]
  },
  {
   "cell_type": "code",
   "execution_count": null,
   "metadata": {},
   "outputs": [],
   "source": [
    "config.data.file_path = 'PICMUS/database/experiments/resolution_distorsion/resolution_distorsion_expe_dataset_iq.hdf5'\n",
    "config.data.dataset_name = 'picmus'\n",
    "config.data.subset = 'experiments/resolution_distorsion'\n",
    "# The modulation type data is saved in ('rf', 'iq')\n",
    "config.data.from_modtype = 'iq'\n",
    "# The modulation type we would like to process the data with\n",
    "config.data.modtype = 'iq'\n",
    "\n",
    "if not quick_mode:\n",
    "    # IQ data is decimated with factor 4\n",
    "    config.scan.downsample = 4\n",
    "    sampling_freq_rf = ui.scan.fs\n",
    "    sampling_freq_iq = ui.scan.fs / config.scan.downsample\n",
    "    config.scan.fs = sampling_freq_iq\n",
    "    ui = DataLoaderUI(config)\n",
    "    image = ui.run()"
   ]
  },
  {
   "attachments": {},
   "cell_type": "markdown",
   "metadata": {},
   "source": [
    "#### IQ beamforming, but reading RF data"
   ]
  },
  {
   "cell_type": "code",
   "execution_count": null,
   "metadata": {},
   "outputs": [],
   "source": [
    "config.data.file_path = 'PICMUS/database/experiments/resolution_distorsion/resolution_distorsion_expe_dataset_rf.hdf5'\n",
    "config.data.dataset_name = 'picmus'\n",
    "config.data.subset = 'experiments/resolution_distorsion'\n",
    "# The modulation type data is saved in ('rf', 'iq')\n",
    "config.data.from_modtype = 'rf'\n",
    "# The modulation type we would like to process the data with <--- this is now changed to IQ\n",
    "config.data.modtype = 'iq'\n",
    "\n",
    "if not quick_mode:\n",
    "    config.scan.downsample = 1\n",
    "    config.scan.fs = sampling_freq_rf\n",
    "    ui = DataLoaderUI(config)\n",
    "    image = ui.run()"
   ]
  },
  {
   "attachments": {},
   "cell_type": "markdown",
   "metadata": {},
   "source": [
    "#### RF beamforming, but reading IQ data"
   ]
  },
  {
   "cell_type": "code",
   "execution_count": null,
   "metadata": {},
   "outputs": [],
   "source": [
    "config.data.file_path = 'PICMUS/database/experiments/resolution_distorsion/resolution_distorsion_expe_dataset_iq.hdf5'\n",
    "config.data.dataset_name = 'picmus'\n",
    "config.data.subset = 'experiments/resolution_distorsion'\n",
    "# The modulation type data is saved in ('rf', 'iq')\n",
    "config.data.from_modtype = 'iq'\n",
    "# The modulation type we would like to process the data with <--- this is now changed to IQ\n",
    "config.data.modtype = 'rf'\n",
    "\n",
    "if not quick_mode:\n",
    "    config.scan.downsample = 1\n",
    "    config.scan.fs = sampling_freq_rf\n",
    "    ui = DataLoaderUI(config)\n",
    "    image = ui.run()"
   ]
  },
  {
   "attachments": {},
   "cell_type": "markdown",
   "metadata": {},
   "source": [
    "### Simulations - resolution distortion"
   ]
  },
  {
   "attachments": {},
   "cell_type": "markdown",
   "metadata": {},
   "source": [
    "#### RF beamforming"
   ]
  },
  {
   "cell_type": "code",
   "execution_count": null,
   "metadata": {},
   "outputs": [],
   "source": [
    "config.data.file_path = 'PICMUS/database/simulation/resolution_distorsion/resolution_distorsion_simu_dataset_rf.hdf5'\n",
    "config.data.dataset_name = 'picmus'\n",
    "config.data.subset = 'simulation/resolution_distorsion'\n",
    "# The modulation type data is saved in ('rf', 'iq')\n",
    "config.data.from_modtype = 'rf'\n",
    "# The modulation type we would like to process the data with\n",
    "config.data.modtype = 'rf'\n",
    "\n",
    "if not quick_mode:\n",
    "    # RF signal is not decimated\n",
    "    config.scan.downsample = 1\n",
    "    config.scan.fs = sampling_freq_rf\n",
    "    ui = DataLoaderUI(config)\n",
    "    image = ui.run()"
   ]
  },
  {
   "attachments": {},
   "cell_type": "markdown",
   "metadata": {},
   "source": [
    "#### IQ beamforming"
   ]
  },
  {
   "cell_type": "code",
   "execution_count": null,
   "metadata": {},
   "outputs": [],
   "source": [
    "\n",
    "config.data.file_path = 'PICMUS/database/simulation/resolution_distorsion/resolution_distorsion_simu_dataset_iq.hdf5'\n",
    "config.data.dataset_name = 'picmus'\n",
    "config.data.subset = 'simulation/resolution_distorsion'\n",
    "# The modulation type data is saved in ('rf', 'iq')\n",
    "config.data.from_modtype = 'iq'\n",
    "# The modulation type we would like to process the data with\n",
    "config.data.modtype = 'iq'\n",
    "\n",
    "if not quick_mode:\n",
    "    # IQ data is decimated with factor 4\n",
    "    config.scan.downsample = 4\n",
    "    config.scan.fs = sampling_freq_iq\n",
    "    config.scan.n_ax = 1528 \n",
    "    # 1527 is the number of axial samples in the rf simulation dataset, had to do +1 since that results in number\n",
    "    # of samples of IQ dataset 328. this is a quirk of the PICMUS dataset\n",
    "    \n",
    "    ui = DataLoaderUI(config)\n",
    "    image = ui.run()"
   ]
  }
 ],
 "metadata": {
  "kernelspec": {
   "display_name": "tf26_usbmd",
   "language": "python",
   "name": "python3"
  },
  "language_info": {
   "codemirror_mode": {
    "name": "ipython",
    "version": 3
   },
   "file_extension": ".py",
   "mimetype": "text/x-python",
   "name": "python",
   "nbconvert_exporter": "python",
   "pygments_lexer": "ipython3",
   "version": "3.9.18"
  },
  "orig_nbformat": 4
 },
 "nbformat": 4,
 "nbformat_minor": 2
}
