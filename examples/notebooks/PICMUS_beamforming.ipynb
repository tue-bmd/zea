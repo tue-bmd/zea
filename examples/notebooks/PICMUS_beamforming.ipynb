{
 "cells": [
  {
   "attachments": {},
   "cell_type": "markdown",
   "metadata": {},
   "source": [
    "## PICMUS beamforming with usbmd toolbox\n",
    "The PICMUS dataset is one of the most widely used ultrasound datasets in the research community. The dataset is available at https://www.creatis.insa-lyon.fr/Challenge/IEEE_IUS_2016/.\n",
    "In this tutorial we show you how to use the dataset with the usbmd toolbox."
   ]
  },
  {
   "cell_type": "markdown",
   "metadata": {},
   "source": [
    "First make sure you have installed the usbmd toolbox using our [installation instructions](../../README.md). Next, we need to prepare the PICMUS dataset for use with the toolbox. After download, convert the dataset to the usbmd format using the following command:\n",
    "```bash\n",
    "python usbmd/data_format/convert_picmus.py --source <path_to_downloaded_dataset> --output <path_to_output_dir>\n",
    "```\n",
    "\n",
    "Also make sure to then correctly setup your data paths by running\n",
    " ```bash\n",
    " python usbmd/common.py\n",
    " ```\n",
    "All paths in the repository are relative to the root of the repository you set using the previous step.\n",
    "\n",
    "Then add the (relative) location of your converted PICMUS dataset to `./configs/config_picmus_rf.yaml`. In this tutorial, we assume the following relative path:\n",
    "\n",
    "```yaml\n",
    "# ./configs/config_picmus_rf.yaml\n",
    "data:\n",
    "  dataset_folder: \"USBMD_datasets/PICMUS/database/simulation/contrast_speckle/contrast_speckle_simu_dataset_rf\"\n",
    "```\n"
   ]
  },
  {
   "cell_type": "code",
   "execution_count": null,
   "metadata": {},
   "outputs": [],
   "source": [
    "# Change the working directory to the root of the project by moving up in the\n",
    "# directory tree until the file 'setup.py' is found.\n",
    "import os\n",
    "\n",
    "while not os.path.exists('setup.py'):\n",
    "    os.chdir('..')\n",
    "\n",
    "# Set to True to run the notebook quickly for testing purposes This is done\n",
    "# automatically in 'tests/test_run_notebooks.py'\n",
    "quick_mode = True"
   ]
  },
  {
   "cell_type": "code",
   "execution_count": null,
   "metadata": {
    "tags": [
     "parameters"
    ]
   },
   "outputs": [],
   "source": [
    "# injected parameters\n",
    "quick_mode = False"
   ]
  },
  {
   "cell_type": "code",
   "execution_count": null,
   "metadata": {},
   "outputs": [],
   "source": [
    "from usbmd.ui import DataLoaderUI\n",
    "from usbmd.setup_usbmd import setup\n",
    "from usbmd.processing import rf2iq, downsample, complex_to_channels"
   ]
  },
  {
   "attachments": {},
   "cell_type": "markdown",
   "metadata": {},
   "source": [
    "### PICMUS"
   ]
  },
  {
   "attachments": {},
   "cell_type": "markdown",
   "metadata": {},
   "source": [
    "### Experiments - resolution distortion"
   ]
  },
  {
   "attachments": {},
   "cell_type": "markdown",
   "metadata": {},
   "source": [
    "#### RF beamforming\n",
    "Let's load the RF data and beamform it. First have a look at the most easy way to do it using our `DataloaderUI` class and setup config functions."
   ]
  },
  {
   "cell_type": "code",
   "execution_count": null,
   "metadata": {},
   "outputs": [],
   "source": [
    "# Loads config, sets data paths and initializes gpu if available\n",
    "config = setup(config_path=\"./configs/config_picmus_rf.yaml\")\n",
    "\n",
    "# Override config settings\n",
    "config.plot.save = False\n",
    "\n",
    "# data paths\n",
    "config.data.dataset_folder = \"USBMD_datasets/PICMUS/database/simulation/contrast_speckle/contrast_speckle_simu_dataset_rf\"\n",
    "config.data.file_path = \"contrast_speckle_simu_dataset_rf.hdf5\""
   ]
  },
  {
   "cell_type": "code",
   "execution_count": null,
   "metadata": {},
   "outputs": [],
   "source": [
    "if not quick_mode:\n",
    "    ui = DataLoaderUI(config)\n",
    "    image = ui.run(plot=True)"
   ]
  },
  {
   "attachments": {},
   "cell_type": "markdown",
   "metadata": {},
   "source": [
    "#### IQ beamforming\n",
    "We can also load the IQ data and beamform it.\n",
    "\n",
    "No need to reload a new config (although you can use `./configs/config_picmus_iq.yaml`).\n",
    "We can simply set n_ch to 2 and change the data file path"
   ]
  },
  {
   "cell_type": "code",
   "execution_count": null,
   "metadata": {},
   "outputs": [],
   "source": [
    "config.scan.n_ch = 2\n",
    "config.data.dataset_folder = \"USBMD_datasets/PICMUS/database/simulation/contrast_speckle/contrast_speckle_simu_dataset_iq\"\n",
    "config.data.file_path = \"contrast_speckle_simu_dataset_iq.hdf5\""
   ]
  },
  {
   "cell_type": "code",
   "execution_count": null,
   "metadata": {},
   "outputs": [],
   "source": [
    "if not quick_mode:\n",
    "    ui = DataLoaderUI(config)\n",
    "    image = ui.run(plot=True)"
   ]
  },
  {
   "attachments": {},
   "cell_type": "markdown",
   "metadata": {},
   "source": [
    "#### IQ beamforming, but reading RF data\n",
    "For this, we need a more manual approach. Let's first load the RF data, but now in `raw_data` format. After that we can manually convert it to IQ data and beamform it, both using our `Process` class."
   ]
  },
  {
   "cell_type": "code",
   "execution_count": null,
   "metadata": {},
   "outputs": [],
   "source": [
    "# data paths\n",
    "config.data.dataset_folder = \"USBMD_datasets/PICMUS/database/simulation/contrast_speckle/contrast_speckle_simu_dataset_rf\"\n",
    "config.data.file_path = \"contrast_speckle_simu_dataset_rf.hdf5\"\n",
    "config.scan.n_ch = 1\n",
    "config.scan.downsample = 4\n",
    "\n",
    "if not quick_mode:\n",
    "    ui = DataLoaderUI(config)\n",
    "    # >> load data\n",
    "    raw_data_rf = ui.get_data()\n",
    "\n",
    "    # >> convert RF to IQ\n",
    "    print(f\"RF data has shape {raw_data_rf.shape}\")\n",
    "    raw_data_iq = rf2iq(raw_data_rf, \"hilbert\")\n",
    "    raw_data_iq = downsample(raw_data_iq, config.scan.downsample, axis=1)\n",
    "    # data needs to be 2 channels instead of complex form for other processing functions\n",
    "    raw_data_iq = complex_to_channels(raw_data_iq.squeeze(axis=-1), axis=-1)\n",
    "    print(f\"IQ data has shape {raw_data_iq.shape}\")\n",
    "\n",
    "    # >> beamform, for now we need to reinitialize the ui such that the beamformer is reinitialized for IQ\n",
    "    config.scan.n_ch = 2\n",
    "    ui = DataLoaderUI(config)\n",
    "    image = ui.process.run(raw_data_iq, dtype=\"raw_data\", to_dtype=\"image\")\n",
    "    ui.dtype = \"image\"\n",
    "    ui.data = image\n",
    "\n",
    "    # >> plot image\n",
    "    ui.plot(image)"
   ]
  },
  {
   "attachments": {},
   "cell_type": "markdown",
   "metadata": {},
   "source": [
    "### Simulations - resolution distortion\n",
    "For fun, let's look at another PICMUS dataset as an example. This is a simulated dataset, generating a bunch of scatterers. Often we can use it to look at the resolution of our ultrasound pipeline."
   ]
  },
  {
   "attachments": {},
   "cell_type": "markdown",
   "metadata": {},
   "source": [
    "#### RF beamforming"
   ]
  },
  {
   "cell_type": "code",
   "execution_count": null,
   "metadata": {},
   "outputs": [],
   "source": [
    "# data paths\n",
    "config.data.dataset_folder = \"USBMD_datasets/PICMUS/database/simulation/resolution_distorsion/resolution_distorsion_simu_dataset_rf\"\n",
    "config.data.file_path = \"resolution_distorsion_simu_dataset_rf.hdf5\"\n",
    "config.scan.n_ch = 1\n",
    "\n",
    "if not quick_mode:\n",
    "    ui = DataLoaderUI(config)\n",
    "    image = ui.run()"
   ]
  },
  {
   "cell_type": "markdown",
   "metadata": {},
   "source": [
    "The quality is not really impressive. But wait, in the config we specified the number of transmits (in this case number of plane wave angels) to be 7. The total in the dataset is 75. Let's see how it looks using all of them. \n",
    "This can take a bit longer... Reduce the number of transmits or use cpu instead of gpu if you run into any issues."
   ]
  },
  {
   "cell_type": "code",
   "execution_count": null,
   "metadata": {},
   "outputs": [],
   "source": [
    "if not quick_mode:\n",
    "    config.scan.selected_transmits = 30\n",
    "    ui = DataLoaderUI(config)\n",
    "    image = ui.run(plot=True)"
   ]
  }
 ],
 "metadata": {
  "kernelspec": {
   "display_name": "tf26_usbmd",
   "language": "python",
   "name": "python3"
  },
  "language_info": {
   "codemirror_mode": {
    "name": "ipython",
    "version": 3
   },
   "file_extension": ".py",
   "mimetype": "text/x-python",
   "name": "python",
   "nbconvert_exporter": "python",
   "pygments_lexer": "ipython3",
   "version": "3.10.13"
  },
  "orig_nbformat": 4
 },
 "nbformat": 4,
 "nbformat_minor": 2
}
