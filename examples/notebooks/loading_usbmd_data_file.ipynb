{
 "cells": [
  {
   "cell_type": "markdown",
   "metadata": {},
   "source": [
    "# Tutorial: Loading an USBMD data file\n",
    "In this tutorial notebook we will show how to load an USBMD data file and how to access the data stored in it."
   ]
  },
  {
   "cell_type": "code",
   "execution_count": null,
   "metadata": {
    "tags": []
   },
   "outputs": [],
   "source": [
    "# Set the working directory to the root of the repository\n",
    "# We do this by moving up until we find the file setup.cfg (which is in the\n",
    "# root of the repository)\n",
    "import os\n",
    "\n",
    "while not os.path.exists('setup.cfg'):\n",
    "    os.chdir('..')"
   ]
  },
  {
   "cell_type": "code",
   "execution_count": null,
   "metadata": {
    "tags": [
     "parameters"
    ]
   },
   "outputs": [],
   "source": [
    "# This cell is tagged with \"parameters\" so that it can be injected into the\n",
    "# notebook when it is run by the unit test testing this notebook.\n",
    "# The variable quick mode will then be set to True, allowing the notebook to\n",
    "# run quickly for testing purposes.\n",
    "# injected parameters\n",
    "quick_mode = False"
   ]
  },
  {
   "cell_type": "code",
   "execution_count": null,
   "metadata": {},
   "outputs": [],
   "source": [
    "# imports\n",
    "from usbmd.utils import log\n",
    "from pathlib import Path\n",
    "\n",
    "import h5py\n",
    "import matplotlib.pyplot as plt\n",
    "import numpy as np\n",
    "\n",
    "from usbmd.datapaths import set_data_paths\n",
    "from usbmd.data import load_usbmd_file\n",
    "from usbmd.processing import log_compress, rf2iq, channels_to_complex\n",
    "from usbmd.setup_usbmd import setup_config\n",
    "from usbmd.utils.read_h5 import print_hdf5_attrs"
   ]
  },
  {
   "cell_type": "markdown",
   "metadata": {},
   "source": [
    "## Viewing the file structure\n",
    "The USBMD data format works with HDF5 files. We can open a USBMD data file using the `h5py` package and have a look at the contents using the print_hdf5_attrs function. You can see that every dataset element contains a corresponding description and unit.\n",
    "\n",
    "We will demonstrate this by loading some example cardiac data from the NAS. We assume that the `Ultrasound-BMD` folder on the NAS is mapped to `Z:/` on your computer.\n",
    "\n",
    "> *Tip:*\n",
    "> You can also use the [HDFView](https://www.hdfgroup.org/downloads/hdfview/) tool to view the contents of the USBMD data file without having to run any code."
   ]
  },
  {
   "cell_type": "code",
   "execution_count": null,
   "metadata": {},
   "outputs": [],
   "source": [
    "# Load the config file\n",
    "config_path = Path('configs', 'config_usbmd_cirs.yaml')\n",
    "config = setup_config(config_path)\n",
    "\n",
    "# Define path to the data file\n",
    "data_root = set_data_paths(\"./users.yaml\")['data_root']\n",
    "\n",
    "# Plane wave data\n",
    "data_path = data_root / config.data.dataset_folder / config.data.file_path\n",
    "\n",
    "# Uncomment to use the linescanning data instead\n",
    "# data_path = data_root / r'USBMD-example-data/linescanning_l115v.hdf5'\n",
    "\n",
    "if not quick_mode:\n",
    "    # Open the file and print the contents\n",
    "    with h5py.File(data_path, 'r') as f:\n",
    "        print_hdf5_attrs(f)\n",
    "else:\n",
    "    # If quick mode generate a dummy data file. This is mainly for\n",
    "    # running the notebook on the github server.\n",
    "    from usbmd.data import generate_example_dataset\n",
    "    data_path = r\"generated_dummy_data.hdf5\"\n",
    "    generate_example_dataset(data_path, add_optional_fields=True)\n",
    "    log.warning(f\"Data file not found. Generated dummy data file.\")"
   ]
  },
  {
   "cell_type": "markdown",
   "metadata": {},
   "source": [
    "## Loading the file with the toolbox"
   ]
  },
  {
   "cell_type": "code",
   "execution_count": null,
   "metadata": {},
   "outputs": [],
   "source": [
    "# Load the data file and construct a probe and scan object\n",
    "# We will only load the first two frames of the data file\n",
    "selected_frames = [0, 1]\n",
    "data, scan, probe = load_usbmd_file(data_path, frames=selected_frames, config=config)\n",
    "\n",
    "# Print some info about the data\n",
    "print('Data file loaded successfully')\n",
    "print('The data tensor has shape: {}'.format(data.shape))\n",
    "print('The dimensions of the data are (n_frames, n_transmits, n_axial_samples, '\n",
    "      'n_elements, n_rf_iq_channels)')\n",
    "\n",
    "# Reduce the beamforming grid in quick mode (during unit testing)\n",
    "if quick_mode:\n",
    "    scan.Nx = 32\n",
    "    scan.Nz = 32"
   ]
  },
  {
   "cell_type": "markdown",
   "metadata": {},
   "source": [
    "## Beamforming the data\n",
    "Now we would like to beamform the data to generate an image. For this we need to load a config file that contains the beamforming parameters. We can load a config using the `load_config_from_yaml` function. Once we have a config we create the beamformer using get_beamformer with the scan and probe class that we got from the data file."
   ]
  },
  {
   "cell_type": "code",
   "execution_count": null,
   "metadata": {},
   "outputs": [],
   "source": [
    "# Lets import the correct ML libraries\n",
    "if config.ml_library == 'torch':\n",
    "    import torch\n",
    "    from usbmd.backend.pytorch.layers.beamformers import get_beamformer\n",
    "elif config.ml_library == 'tensorflow':\n",
    "    import tensorflow as tf\n",
    "    from usbmd.backend.tensorflow.layers.beamformers import get_beamformer\n",
    "\n",
    "# Create the beamformer\n",
    "config.model.batch_size = len(selected_frames)\n",
    "beamformer = get_beamformer(probe=probe, scan=scan, config=config)\n",
    "\n",
    "# # Turn the data into a torch tensor if we are using pytorch\n",
    "if config.ml_library == 'torch':\n",
    "    data = torch.from_numpy(data)\n",
    "\n",
    "beamformed_data = beamformer(data)\n",
    "\n",
    "# Convert the data to a numpy array and remove dummy dimensions\n",
    "beamformed_data = beamformed_data.numpy()[0, ..., 0]\n",
    "\n",
    "# Transform the data to IQ data\n",
    "iq_data = rf2iq(\n",
    "    beamformed_data,\n",
    "    fs=scan.fs,\n",
    "    fc=scan.fc,\n",
    "    bandwidth=scan.bandwidth_percent,\n",
    "    separate_channels=False)\n",
    "\n",
    "# Take the magnitude of the complex data (the envelope)\n",
    "image = np.abs(iq_data)\n",
    "\n",
    "# Normalize the image and apply log compression\n",
    "image = image/image.max()\n",
    "image = log_compress(image)"
   ]
  },
  {
   "cell_type": "markdown",
   "metadata": {},
   "source": [
    "## Plotting the result"
   ]
  },
  {
   "cell_type": "code",
   "execution_count": null,
   "metadata": {},
   "outputs": [],
   "source": [
    "# Plot the image\n",
    "fig, ax = plt.subplots(figsize=(6, 6))\n",
    "ax.imshow(image,\n",
    "          cmap='gray',\n",
    "          extent=[scan.xlims[0], scan.xlims[1], scan.zlims[1], scan.zlims[0]],\n",
    "          vmin=config.data.dynamic_range[0], vmax=config.data.dynamic_range[1])\n",
    "\n",
    "# Add labels\n",
    "ax.set_xlabel('Lateral distance [m]')\n",
    "ax.set_ylabel('Depth [m]')\n",
    "\n",
    "# Turn the figure black\n",
    "ax.set_facecolor((0, 0, 0))\n",
    "fig.patch.set_facecolor((0, 0, 0))\n",
    "\n",
    "# Turn the ticks white\n",
    "ax.tick_params(axis='both', colors='white')\n",
    "\n",
    "# Turn the labels white\n",
    "ax.xaxis.label.set_color('white')\n",
    "ax.yaxis.label.set_color('white')"
   ]
  },
  {
   "cell_type": "markdown",
   "metadata": {},
   "source": [
    "## Comparing to the image stored in the data file\n",
    "Since this data file also already has processed image data inside we can plot this too and see if the result is the same."
   ]
  },
  {
   "cell_type": "code",
   "execution_count": null,
   "metadata": {},
   "outputs": [],
   "source": [
    "# Load the image data from the data file\n",
    "try:\n",
    "    image = load_usbmd_file(data_path, frames=selected_frames, data_type=\"beamformed_data\", config=config)[0]\n",
    "    image = image[0, :, :, 0]\n",
    "\n",
    "# If the image data is missing, generate a dummy image\n",
    "except KeyError:\n",
    "    image = np.ones((128, 128))\n",
    "\n",
    "# Apply log compression\n",
    "image = log_compress(image/np.max(image))\n",
    "\n",
    "fig, ax = plt.subplots(figsize=(6, 6))\n",
    "ax.imshow(image,\n",
    "          cmap='gray',\n",
    "          extent=[scan.xlims[0], scan.xlims[1], scan.zlims[1], scan.zlims[0]])\n",
    "\n",
    "# Add labels\n",
    "ax.set_xlabel('Lateral distance [m]')\n",
    "ax.set_ylabel('Depth [m]')\n",
    "\n",
    "# Turn the figure black\n",
    "ax.set_facecolor((0, 0, 0))\n",
    "fig.patch.set_facecolor((0, 0, 0))\n",
    "\n",
    "# Turn the ticks white\n",
    "ax.tick_params(axis='both', colors='white')\n",
    "\n",
    "# Turn the labels white\n",
    "ax.xaxis.label.set_color('white')\n",
    "ax.yaxis.label.set_color('white')"
   ]
  }
 ],
 "metadata": {
  "kernelspec": {
   "display_name": "base",
   "language": "python",
   "name": "python3"
  },
  "language_info": {
   "codemirror_mode": {
    "name": "ipython",
    "version": 3
   },
   "file_extension": ".py",
   "mimetype": "text/x-python",
   "name": "python",
   "nbconvert_exporter": "python",
   "pygments_lexer": "ipython3",
   "version": "3.10.13"
  }
 },
 "nbformat": 4,
 "nbformat_minor": 2
}
