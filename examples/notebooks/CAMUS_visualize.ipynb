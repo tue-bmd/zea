{
 "cells": [
  {
   "cell_type": "code",
   "execution_count": 1,
   "metadata": {
    "tags": [
     "parameters"
    ]
   },
   "outputs": [],
   "source": [
    "# Change the working directory to the root of the project by moving up in the\n",
    "# directory tree until the file 'setup.py' is found.\n",
    "import os\n",
    "\n",
    "while not os.path.exists('setup.py'):\n",
    "    os.chdir('..')\n",
    "\n",
    "# Set to True to run the notebook quickly for testing purposes This is done\n",
    "# automatically in 'tests/test_run_notebooks.py'\n",
    "quick_mode = False"
   ]
  },
  {
   "cell_type": "code",
   "execution_count": 2,
   "metadata": {
    "tags": [
     "injected-parameters"
    ]
   },
   "outputs": [],
   "source": [
    "# injected parameters\n",
    "quick_mode = False"
   ]
  },
  {
   "cell_type": "code",
   "execution_count": 3,
   "metadata": {},
   "outputs": [],
   "source": [
    "from usbmd.common import set_data_paths\n",
    "from usbmd.setup_usbmd import setup_config\n",
    "from usbmd.ui import DataLoaderUI"
   ]
  },
  {
   "cell_type": "code",
   "execution_count": 4,
   "metadata": {},
   "outputs": [
    {
     "name": "stdout",
     "output_type": "stream",
     "text": [
      "Using config file: ./configs/config_camus.yaml\n",
      "Git branch and commit: \n",
      "176-camus-to-usbmd-dataformat=4462a1f4ee7adea23211cca3c46efa79cd37f50f\n"
     ]
    }
   ],
   "source": [
    "## load a config file\n",
    "config = setup_config(file=\"./configs/config_camus.yaml\")\n",
    "\n",
    "## setup data_root through users settings\n",
    "config.data.user = set_data_paths(\"./users.yaml\", local=config.data.local)"
   ]
  },
  {
   "cell_type": "markdown",
   "metadata": {},
   "source": [
    "# CAMUS example"
   ]
  },
  {
   "cell_type": "code",
   "execution_count": 5,
   "metadata": {},
   "outputs": [
    {
     "name": "stdout",
     "output_type": "stream",
     "text": [
      "Using torch library for processing\n",
      "Playing video, press/hold \"q\" while the window is active to exit...\n"
     ]
    },
    {
     "name": "stderr",
     "output_type": "stream",
     "text": [
      "c:\\Users\\20171887\\repositories\\Ultrasound-BMd\\usbmd\\scan.py:150: UserWarning: No initial times provided. Assuming all zeros.\n",
      "  warnings.warn(\"No initial times provided. Assuming all zeros.\")\n",
      "c:\\Users\\20171887\\repositories\\Ultrasound-BMd\\usbmd\\scan.py:159: UserWarning: No t0_delays provided. Assuming all zeros and 128 element probe.\n",
      "  warnings.warn(\n",
      "c:\\Users\\20171887\\repositories\\Ultrasound-BMd\\usbmd\\scan.py:169: UserWarning: No tx_apodizations provided. Assuming all ones and 128 element probe.\n",
      "  warnings.warn(\n",
      "c:\\Users\\20171887\\repositories\\Ultrasound-BMd\\usbmd\\scan.py:180: UserWarning: No polar_angles provided. Assuming all zeros.\n",
      "  warnings.warn(\"No polar_angles provided. Assuming all zeros.\")\n",
      "c:\\Users\\20171887\\repositories\\Ultrasound-BMd\\usbmd\\scan.py:190: UserWarning: No azimuth_angles provided. Assuming all zeros.\n",
      "  warnings.warn(\"No azimuth_angles provided. Assuming all zeros.\")\n",
      "c:\\Users\\20171887\\repositories\\Ultrasound-BMd\\usbmd\\scan.py:197: UserWarning: No focus_distances provided. Assuming all zeros.\n",
      "  warnings.warn(\"No focus_distances provided. Assuming all zeros.\")\n",
      "c:\\Users\\20171887\\repositories\\Ultrasound-BMd\\usbmd\\utils\\pixelgrid.py:49: UserWarning: width/Nx = 0.0001563 < wvln/2 = 0.00011. Consider increasing scan.Nx to 181 or more.\n",
      "  warnings.warn(\n",
      "c:\\Users\\20171887\\repositories\\Ultrasound-BMd\\usbmd\\utils\\pixelgrid.py:54: UserWarning: depth/Nz = 0.0003125 < wvln/2 = 0.0001100. Consider increasing scan.Nz to 363 or more.\n",
      "  warnings.warn(\n"
     ]
    },
    {
     "name": "stdout",
     "output_type": "stream",
     "text": [
      "Succesfully saved GIF to -> figures\\patient0001_2CH_half_sequence.gif\n"
     ]
    }
   ],
   "source": [
    "if not quick_mode:\n",
    "    ui = DataLoaderUI(config)\n",
    "    image = ui.run()"
   ]
  }
 ],
 "metadata": {
  "kernelspec": {
   "display_name": "base",
   "language": "python",
   "name": "python3"
  },
  "language_info": {
   "codemirror_mode": {
    "name": "ipython",
    "version": 3
   },
   "file_extension": ".py",
   "mimetype": "text/x-python",
   "name": "python",
   "nbconvert_exporter": "python",
   "pygments_lexer": "ipython3",
   "version": "3.9.18"
  },
  "orig_nbformat": 4
 },
 "nbformat": 4,
 "nbformat_minor": 2
}
