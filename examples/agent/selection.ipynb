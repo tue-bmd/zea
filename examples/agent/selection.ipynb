{
 "cells": [
  {
   "cell_type": "code",
   "execution_count": null,
   "metadata": {},
   "outputs": [],
   "source": [
    "import os\n",
    "\n",
    "os.environ[\"KERAS_BACKEND\"] = \"jax\"\n",
    "\n",
    "from usbmd import init_device\n",
    "\n",
    "init_device(\"cpu\")"
   ]
  },
  {
   "cell_type": "code",
   "execution_count": null,
   "metadata": {},
   "outputs": [],
   "source": [
    "from usbmd.agent import selection\n",
    "from usbmd.visualize import visualize_matrix\n",
    "import numpy as np\n",
    "import matplotlib.pyplot as plt"
   ]
  },
  {
   "cell_type": "code",
   "execution_count": null,
   "metadata": {},
   "outputs": [],
   "source": [
    "np.random.seed(2)\n",
    "h, w = 8, 8\n",
    "rand_img_1 = np.random.rand(h, w, 1).astype(np.float32)\n",
    "rand_img_2 = np.random.rand(h, w, 1).astype(np.float32)\n",
    "\n",
    "# manually make lines 2 and 3 very correlated\n",
    "rand_img_1[:, 2] = rand_img_1[:, 3]\n",
    "rand_img_2[:, 2] = rand_img_2[:, 3]\n",
    "\n",
    "particles = np.stack([rand_img_1, rand_img_2], axis=0)[:, None]\n",
    "particles = np.squeeze(particles, axis=-1) # shape (n_particles, 1, h, w)\n",
    "plt.imshow(rand_img_1, cmap='gray')\n",
    "plt.show()\n",
    "plt.imshow(rand_img_2, cmap='gray')"
   ]
  },
  {
   "cell_type": "code",
   "execution_count": null,
   "metadata": {},
   "outputs": [],
   "source": [
    "var_img = np.var(particles, axis=0)\n",
    "var_img = np.squeeze(var_img, axis=0)\n",
    "sum_var = np.sum(var_img, axis=0)\n",
    "\n",
    "fig = visualize_matrix(var_img, vmin=0)\n",
    "plt.title('Variance')\n",
    "plt.show()\n",
    "\n",
    "fig = visualize_matrix(sum_var[None], vmin=0)\n",
    "plt.title('Sum of variance over columns')\n",
    "plt.show()"
   ]
  },
  {
   "cell_type": "code",
   "execution_count": null,
   "metadata": {},
   "outputs": [],
   "source": [
    "n_actions = 1\n",
    "agent = selection.CovarianceSamplingLines(n_actions, w, h, w, n_masks=200)\n",
    "\n",
    "mask = agent.sample(particles)\n",
    "mask = np.squeeze(mask, axis=0)\n",
    "plt.imshow(mask, cmap='gray')"
   ]
  },
  {
   "cell_type": "code",
   "execution_count": null,
   "metadata": {},
   "outputs": [],
   "source": [
    "n_actions = 1\n",
    "agent = selection.GreedyEntropy(n_actions, w, h, w)\n",
    "\n",
    "mask = agent.sample(particles)\n",
    "mask = np.squeeze(mask, axis=0)\n",
    "plt.imshow(mask, cmap='gray')"
   ]
  },
  {
   "cell_type": "code",
   "execution_count": null,
   "metadata": {},
   "outputs": [],
   "source": [
    "n_actions = 2\n",
    "agent = selection.CovarianceSamplingLines(n_actions, w, h, w, n_masks=200)\n",
    "\n",
    "mask = agent.sample(particles)\n",
    "mask = np.squeeze(mask, axis=0)\n",
    "plt.imshow(mask, cmap='gray')"
   ]
  },
  {
   "cell_type": "code",
   "execution_count": null,
   "metadata": {},
   "outputs": [],
   "source": [
    "n_actions = 2\n",
    "agent = selection.GreedyEntropy(n_actions, w, h, w)\n",
    "\n",
    "mask = agent.sample(particles)\n",
    "mask = np.squeeze(mask, axis=0)\n",
    "plt.imshow(mask, cmap='gray')"
   ]
  }
 ],
 "metadata": {
  "kernelspec": {
   "display_name": "Python 3",
   "language": "python",
   "name": "python3"
  },
  "language_info": {
   "codemirror_mode": {
    "name": "ipython",
    "version": 3
   },
   "file_extension": ".py",
   "mimetype": "text/x-python",
   "name": "python",
   "nbconvert_exporter": "python",
   "pygments_lexer": "ipython3",
   "version": "3.10.12"
  }
 },
 "nbformat": 4,
 "nbformat_minor": 2
}
