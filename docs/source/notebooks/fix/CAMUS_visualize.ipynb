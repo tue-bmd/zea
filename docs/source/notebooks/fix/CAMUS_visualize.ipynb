{
 "cells": [
  {
   "cell_type": "code",
   "execution_count": 1,
   "metadata": {
    "tags": [
     "parameters"
    ]
   },
   "outputs": [],
   "source": [
    "# Change the working directory to the root of the project by moving up in the\n",
    "# directory tree until the file '.gitignore' is found.\n",
    "import os\n",
    "\n",
    "while not os.path.exists('.gitignore'):\n",
    "    os.chdir('..')\n",
    "\n",
    "# Set to True to run the notebook quickly for testing purposes This is done\n",
    "# automatically in 'tests/test_run_notebooks.py'\n",
    "quick_mode = False"
   ]
  },
  {
   "cell_type": "code",
   "execution_count": 2,
   "metadata": {
    "tags": [
     "injected-parameters"
    ]
   },
   "outputs": [],
   "source": [
    "# injected parameters\n",
    "quick_mode = False"
   ]
  },
  {
   "cell_type": "code",
   "execution_count": 3,
   "metadata": {},
   "outputs": [],
   "source": [
    "from usbmd import Interface, setup"
   ]
  },
  {
   "cell_type": "code",
   "execution_count": null,
   "metadata": {},
   "outputs": [],
   "source": [
    "## load a config file\n",
    "config = setup(config_path=\"./configs/config_camus.yaml\")"
   ]
  },
  {
   "cell_type": "markdown",
   "metadata": {},
   "source": [
    "# CAMUS example"
   ]
  },
  {
   "cell_type": "code",
   "execution_count": null,
   "metadata": {},
   "outputs": [],
   "source": [
    "if not quick_mode:\n",
    "    interface = Interface(config)\n",
    "    image = interface.run()"
   ]
  }
 ],
 "metadata": {
  "kernelspec": {
   "display_name": "base",
   "language": "python",
   "name": "python3"
  },
  "language_info": {
   "codemirror_mode": {
    "name": "ipython",
    "version": 3
   },
   "file_extension": ".py",
   "mimetype": "text/x-python",
   "name": "python",
   "nbconvert_exporter": "python",
   "pygments_lexer": "ipython3",
   "version": "3.10.12"
  }
 },
 "nbformat": 4,
 "nbformat_minor": 2
}
