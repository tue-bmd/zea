{
 "cells": [
  {
   "cell_type": "code",
   "execution_count": 1,
   "metadata": {},
   "outputs": [
    {
     "name": "stdout",
     "output_type": "stream",
     "text": [
      "\u001b[1m\u001b[38;5;36mzea\u001b[0m\u001b[0m: Using backend 'jax'\n"
     ]
    }
   ],
   "source": [
    "import matplotlib.pyplot as plt\n",
    "import numpy as np\n",
    "from matplotlib.animation import FuncAnimation\n",
    "from zea.tools.selection_tool import interactive_selector, interpolate_masks"
   ]
  },
  {
   "cell_type": "code",
   "execution_count": 2,
   "metadata": {},
   "outputs": [],
   "source": [
    "num_frames = 10\n",
    "num_mask_to_draw = 3\n",
    "image_size = (100, 100)\n",
    "figsize = (11, 3)\n",
    "fps = 10"
   ]
  },
  {
   "cell_type": "code",
   "execution_count": 4,
   "metadata": {},
   "outputs": [
    {
     "name": "stdout",
     "output_type": "stream",
     "text": [
      "...Plot will close after 1 selections...\n"
     ]
    },
    {
     "data": {
      "image/png": "[encoded data removed]",
      "text/plain": [
       "<Figure size 1100x300 with 4 Axes>"
      ]
     },
     "metadata": {},
     "output_type": "display_data"
    },
    {
     "ename": "KeyboardInterrupt",
     "evalue": "",
     "output_type": "error",
     "traceback": [
      "\u001b[0;31m---------------------------------------------------------------------------\u001b[0m",
      "\u001b[0;31mKeyboardInterrupt\u001b[0m                         Traceback (most recent call last)",
      "Cell \u001b[0;32mIn[4], line 12\u001b[0m\n\u001b[1;32m     10\u001b[0m masks \u001b[38;5;241m=\u001b[39m []\n\u001b[1;32m     11\u001b[0m \u001b[38;5;28;01mfor\u001b[39;00m ax \u001b[38;5;129;01min\u001b[39;00m axs[:\u001b[38;5;241m-\u001b[39m\u001b[38;5;241m1\u001b[39m]:\n\u001b[0;32m---> 12\u001b[0m     _, mask \u001b[38;5;241m=\u001b[39m \u001b[43minteractive_selector\u001b[49m\u001b[43m(\u001b[49m\u001b[43mdata\u001b[49m\u001b[43m,\u001b[49m\u001b[43m \u001b[49m\u001b[43max\u001b[49m\u001b[43m,\u001b[49m\u001b[43m \u001b[49m\u001b[43mselector\u001b[49m\u001b[38;5;241;43m=\u001b[39;49m\u001b[38;5;124;43m\"\u001b[39;49m\u001b[38;5;124;43mlasso\u001b[39;49m\u001b[38;5;124;43m\"\u001b[39;49m\u001b[43m,\u001b[49m\u001b[43m \u001b[49m\u001b[43mnum_selections\u001b[49m\u001b[38;5;241;43m=\u001b[39;49m\u001b[38;5;241;43m1\u001b[39;49m\u001b[43m)\u001b[49m\n\u001b[1;32m     13\u001b[0m     ax\u001b[38;5;241m.\u001b[39mimshow(mask[\u001b[38;5;241m0\u001b[39m])\n\u001b[1;32m     14\u001b[0m     masks\u001b[38;5;241m.\u001b[39mappend(mask[\u001b[38;5;241m0\u001b[39m])\n",
      "File \u001b[0;32m/ultrasound-toolbox/zea/tools/selection_tool.py:182\u001b[0m, in \u001b[0;36minteractive_selector\u001b[0;34m(data, ax, selector, extent, verbose, num_selections, confirm_selection)\u001b[0m\n\u001b[1;32m    180\u001b[0m masks \u001b[38;5;241m=\u001b[39m []\n\u001b[1;32m    181\u001b[0m select_idx \u001b[38;5;241m=\u001b[39m \u001b[38;5;241m0\u001b[39m\n\u001b[0;32m--> 182\u001b[0m \u001b[43m_execute_selector\u001b[49m\u001b[43m(\u001b[49m\u001b[43m)\u001b[49m\n\u001b[1;32m    184\u001b[0m patches \u001b[38;5;241m=\u001b[39m []\n\u001b[1;32m    185\u001b[0m \u001b[38;5;28;01mfor\u001b[39;00m mask \u001b[38;5;129;01min\u001b[39;00m masks:\n",
      "File \u001b[0;32m/ultrasound-toolbox/zea/tools/selection_tool.py:170\u001b[0m, in \u001b[0;36minteractive_selector.<locals>._execute_selector\u001b[0;34m()\u001b[0m\n\u001b[1;32m    168\u001b[0m     plt\u001b[38;5;241m.\u001b[39mshow(block\u001b[38;5;241m=\u001b[39m\u001b[38;5;28;01mFalse\u001b[39;00m)\n\u001b[1;32m    169\u001b[0m     \u001b[38;5;28;01mwhile\u001b[39;00m \u001b[38;5;129;01mnot\u001b[39;00m select_idx \u001b[38;5;241m>\u001b[39m\u001b[38;5;241m=\u001b[39m num_selections:\n\u001b[0;32m--> 170\u001b[0m         \u001b[43mplt\u001b[49m\u001b[38;5;241;43m.\u001b[39;49m\u001b[43mpause\u001b[49m\u001b[43m(\u001b[49m\u001b[38;5;241;43m0.1\u001b[39;49m\u001b[43m)\u001b[49m\n\u001b[1;32m    171\u001b[0m \u001b[38;5;28;01melse\u001b[39;00m:\n\u001b[1;32m    172\u001b[0m     plt\u001b[38;5;241m.\u001b[39mshow(block\u001b[38;5;241m=\u001b[39m\u001b[38;5;28;01mFalse\u001b[39;00m)\n",
      "File \u001b[0;32m/usr/local/lib/python3.10/dist-packages/matplotlib/pyplot.py:760\u001b[0m, in \u001b[0;36mpause\u001b[0;34m(interval)\u001b[0m\n\u001b[1;32m    758\u001b[0m     canvas\u001b[38;5;241m.\u001b[39mstart_event_loop(interval)\n\u001b[1;32m    759\u001b[0m \u001b[38;5;28;01melse\u001b[39;00m:\n\u001b[0;32m--> 760\u001b[0m     \u001b[43mtime\u001b[49m\u001b[38;5;241;43m.\u001b[39;49m\u001b[43msleep\u001b[49m\u001b[43m(\u001b[49m\u001b[43minterval\u001b[49m\u001b[43m)\u001b[49m\n",
      "\u001b[0;31mKeyboardInterrupt\u001b[0m: "
     ]
    }
   ],
   "source": [
    "data = np.ones(image_size)\n",
    "\n",
    "fig, axs = plt.subplots(1, num_mask_to_draw + 1, figsize=figsize)\n",
    "for i, ax in enumerate(axs):\n",
    "    ax.imshow(data)\n",
    "    if i < len(axs) - 1:\n",
    "        ax.set_title(f\"Mask {i}\")\n",
    "    ax.axis('off')\n",
    "\n",
    "masks = []\n",
    "for ax in axs[:-1]:\n",
    "    _, mask = interactive_selector(data, ax, selector=\"lasso\", num_selections=1)\n",
    "    ax.imshow(mask[0])\n",
    "    masks.append(mask[0])\n",
    "\n",
    "interpolated_masks = interpolate_masks(masks, num_frames)\n",
    "\n",
    "interpolated_masks = interpolated_masks + interpolated_masks[::-1][1:]\n",
    "\n",
    "num_frames = len(interpolated_masks)\n",
    "\n",
    "# Plot the animation of intermediate frames in the third subplot\n",
    "animation_img = axs[-1].imshow(interpolated_masks[0])\n",
    "axs[-1].set_title('Intermediate Frames')\n",
    "\n",
    "# Function to update the animation frame\n",
    "def update(frame):\n",
    "    animation_img.set_array(interpolated_masks[frame])\n",
    "    return animation_img,\n",
    "\n",
    "# Create an animation\n",
    "ani = FuncAnimation(fig, update, frames=num_frames, interval=1000 / fps)\n",
    "ani.save('lasso_test.gif', writer='imagemagick')\n",
    "plt.show()"
   ]
  }
 ],
 "metadata": {
  "kernelspec": {
   "display_name": "Python 3",
   "language": "python",
   "name": "python3"
  },
  "language_info": {
   "codemirror_mode": {
    "name": "ipython",
    "version": 3
   },
   "file_extension": ".py",
   "mimetype": "text/x-python",
   "name": "python",
   "nbconvert_exporter": "python",
   "pygments_lexer": "ipython3",
   "version": "3.10.12"
  }
 },
 "nbformat": 4,
 "nbformat_minor": 2
}
