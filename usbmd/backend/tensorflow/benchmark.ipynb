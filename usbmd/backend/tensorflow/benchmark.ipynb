{
 "cells": [
  {
   "cell_type": "code",
   "execution_count": null,
   "metadata": {},
   "outputs": [],
   "source": [
    "import os\n",
    "\n",
    "os.environ[\"CUDA_VISIBLE_DEVICES\"] = \"\"\n",
    "os.chdir(\"/ultrasound-toolbox\")\n",
    "\n",
    "from usbmd.backend.tensorflow.dataloader import h5_dataset_from_directory\n",
    "from usbmd import set_data_paths\n",
    "import time\n",
    "\n",
    "def _log(execution_time, batches):\n",
    "    print(\"Execution time:\", execution_time)\n",
    "    print(\"Number of batches:\", batches)\n",
    "    print(\"Execution time per batch:\", execution_time / batches)\n",
    "\n",
    "def benchmark(dataset, num_epochs=2):\n",
    "    batches = 0\n",
    "    for epoch_num in range(num_epochs):\n",
    "        if epoch_num == 0:\n",
    "            start_epoch0 = time.perf_counter()\n",
    "        if epoch_num == 1:\n",
    "            start_time = time.perf_counter()\n",
    "        for sample in iter(dataset):\n",
    "            # Performing a training step\n",
    "            batches += 1\n",
    "            time.sleep(0.01)\n",
    "        if epoch_num == 0:\n",
    "            end_epoch0 = time.perf_counter()\n",
    "            execution_time_epoch0 = end_epoch0 - start_epoch0\n",
    "            print(\"------ Epoch == 0 ------\")\n",
    "            _log(execution_time_epoch0, batches)\n",
    "            batches = 0\n",
    "    end_time = time.perf_counter()\n",
    "    execution_time = end_time - start_time\n",
    "    print(\"------ Epoch >= 1 ------\")\n",
    "    _log(execution_time, batches)\n",
    "\n",
    "\n",
    "def benchmark2(dataset, *args, **kwargs):\n",
    "    times = [time.perf_counter()]\n",
    "    images = []\n",
    "    for sample in iter(dataset):\n",
    "        time.sleep(0.01)\n",
    "        times.append(time.perf_counter())\n",
    "        images.append(sample)\n",
    "        print(times[-1] - times[-2])\n",
    "    return times, images\n"
   ]
  },
  {
   "cell_type": "code",
   "execution_count": null,
   "metadata": {},
   "outputs": [],
   "source": [
    "# Set up data paths and device\n",
    "data_paths = set_data_paths(local=False)\n",
    "data_root = data_paths[\"data_root\"]\n",
    "\n",
    "dataset = h5_dataset_from_directory(\n",
    "    data_root / \"USBMD_datasets/echonet/val\",\n",
    "    key=\"data/image\",\n",
    "    batch_size=512,\n",
    "    shuffle=True,\n",
    "    resize_type=\"resize\",\n",
    "    seed=42,\n",
    "    prefetch=False,\n",
    "    cache=False,\n",
    "    wrap_in_keras=True,\n",
    "    limit_n_samples=10240, # 10 batches\n",
    ")\n",
    "\n",
    "times, images = benchmark2(dataset, num_epochs=2)"
   ]
  },
  {
   "cell_type": "code",
   "execution_count": null,
   "metadata": {},
   "outputs": [],
   "source": [
    "import keras\n",
    "\n",
    "keras.src.trainer.data_adapters.py_dataset_adapter.PyDatasetAdapter"
   ]
  }
 ],
 "metadata": {
  "kernelspec": {
   "display_name": "Python 3",
   "language": "python",
   "name": "python3"
  },
  "language_info": {
   "codemirror_mode": {
    "name": "ipython",
    "version": 3
   },
   "file_extension": ".py",
   "mimetype": "text/x-python",
   "name": "python",
   "nbconvert_exporter": "python",
   "pygments_lexer": "ipython3",
   "version": "3.10.12"
  }
 },
 "nbformat": 4,
 "nbformat_minor": 2
}
